{
 "cells": [
  {
   "cell_type": "markdown",
   "metadata": {},
   "source": [
    "## Table of Contents\n",
    "- Section 1: Introduction\n",
    "- Section 2: Methodology\n",
    "    - Section 2.i: Convert Data\n",
    "    - Section 2.ii: Optical Character Recognition\n",
    "    - Section 2.iii: Create Datasets\n",
    "    - Section 2.iv: Create the Model\n",
    "    - Section 2.v: Model Training\n",
    "- Section 3: Results"
   ]
  },
  {
   "cell_type": "markdown",
   "metadata": {},
   "source": [
    "## Section 1: Introduction<a name=\"section-1-introduction\"></a>"
   ]
  },
  {
   "cell_type": "markdown",
   "metadata": {},
   "source": [
    "This notebook outlines the process to fine-tune a PyTorch model to separate documents into different categories. This model was intended to be incorporated into a data processing pipeline. Once a document was classified, additional processing would take place downstream depending on its classification.\n",
    "\n",
    "This project uses Microsoft's LayoutLM model to classify the documents and is influenced by this [Venelin Valkov blog](https://www.mlexpert.io/blog/document-classification-with-layoutlmv3). Unlike a traditional convolution neural network, this model incorporates the text elements in the document and the spatial relationship between the text elements. This is in contrast to traditional convolution neural networks which ignores the text elements. Because of the ability to incorporoate text, LayoutLM can produce superior results for document classification than a CNN.\n",
    "\n",
    "The goal was to incorporate a document separating model into a data processing pipeline. To that end, the goal was to fine-tune a the LayoutLM model so it could classify a document into five separate categories:\n",
    "- communication: Documents that communicate information to subjects (e.g. instructions for colonscopy) contina limited research utility. Therefore, these documents were excluded from further processing and were excluded from the data registry.\n",
    "- requisition_results: The results from lab tests were already captured in a structured manner. Processing the lab results did add any additional information; therefore, they were expected to not be processed any further.\n",
    "- fax: Since the final model only evaluates the first page of a document, if it is determined that the first page of the document is a fax cover sheet, our pipeline will look at the second page to determine how the document is processed.\n",
    "- medical_image: It was anticipated that there would be requests to access medical images in the near future; therefore, we need to identify the medical images to segregate them for further use.\n",
    "- other: All other documents were considered relevant and would be further processed including extracting the data using optical character recognition and natural language processing."
   ]
  },
  {
   "cell_type": "markdown",
   "metadata": {},
   "source": [
    "## Section 2: Methodology<a name=\"section-2-methodology\"></a>"
   ]
  },
  {
   "cell_type": "markdown",
   "metadata": {},
   "source": [
    "### Section 2.i: Convert Data<a name=\"section-2i-data\"></a>\n",
    "\n",
    "The data collected for this project exists in three different forms: PDFs, TIFs, and JPGs. For the model to work, we need to use a single file format. Therefore, it is necessary to convert the PDFs and TIFs into JPGs. To that end, we create two functions `convert_tif_image` and `convert_pdf_image`."
   ]
  },
  {
   "cell_type": "code",
   "execution_count": 1,
   "metadata": {},
   "outputs": [],
   "source": [
    "from PIL import Image\n",
    "import pypdfium2 as pdfium\n",
    "\n",
    "def convert_tif_image(file_path):\n",
    "    \"\"\"Convert first page of TIF file to PIL Image\n",
    "\n",
    "    Parameters\n",
    "    ----------\n",
    "    file_path : str\n",
    "        Path to location of TIF file\n",
    "\n",
    "    Returns\n",
    "    -------\n",
    "    PIL.Image\n",
    "    \"\"\"\n",
    "\n",
    "    try:\n",
    "        im = Image.open(file_path)\n",
    "\n",
    "        if im.n_frames > 1:\n",
    "            im.seek(0)\n",
    "        return im\n",
    "\n",
    "    except Exception as e:\n",
    "        print (e)\n",
    "\n",
    "def convert_pdf_image(file_path):\n",
    "    \"\"\"Convert first page of PDF file to PIL Image\n",
    "\n",
    "    Parameters\n",
    "    ----------\n",
    "    file_path : str\n",
    "        Path to location of PDF file\n",
    "\n",
    "    Returns\n",
    "    -------\n",
    "    PIL.Image\n",
    "    \"\"\"\n",
    "    try:\n",
    "        pdf = pdfium.PdfDocument(file_path)\n",
    "        first_page = pdf[0]\n",
    "        return first_page.render(scale=4).to_pil()\n",
    "    except Exception as e:\n",
    "        print (e)"
   ]
  },
  {
   "cell_type": "markdown",
   "metadata": {},
   "source": [
    "Once we have functions to convert the pdfs and tifs into image files, we can convert our files. After conversion, all files in the `processed` folder only contain jpg images."
   ]
  },
  {
   "cell_type": "code",
   "execution_count": 2,
   "metadata": {},
   "outputs": [],
   "source": [
    "import shutil\n",
    "import os\n",
    "\n",
    "for root, _, files in os.walk('../data/raw', topdown=False):\n",
    "    for file in files:\n",
    "        \n",
    "        if file.lower().endswith('.pdf'):\n",
    "            img = convert_pdf_image(os.path.join(root, file))\n",
    "            img.save(\n",
    "                os.path.join(\n",
    "                    root.replace('raw', 'processed'), file.lower().replace('.pdf', '.jpg')\n",
    "                )\n",
    "            )\n",
    "        elif file.endswith(('.jpg', '.jpeg')):\n",
    "            shutil.copy2(\n",
    "                os.path.join(root, file), \n",
    "                os.path.join(root.replace('raw', 'processed'), file.replace('.jpeg', '.jpg'))\n",
    "            )\n",
    "        elif file.lower().endswith('.tif'):\n",
    "            img = convert_tif_image(os.path.join(root, file))\n",
    "            img.save(\n",
    "                os.path.join(\n",
    "                    root.replace('raw', 'processed'), file.lower().replace('.tif', '.jpg')\n",
    "                )\n",
    "            )"
   ]
  },
  {
   "cell_type": "markdown",
   "metadata": {},
   "source": [
    "### Section 2.ii: Optical Character Recognition<a name=\"section-2ii-ocr\"></a>\n",
    "\n",
    "Layout LM combines the text with the text location and other image features to help classify the document.\n",
    "\n",
    "Optical character recognition (OCR) is used to extract the text from the documents, if applicable. The default Layout LM OCR is Google's Tesseract which can be relatively slow to extract the text. Here we use an alternative OCR package, `easyocr`, to extract text from the images and the function `create_bounding_box` to organize the text location information. The text and associated location information is extracted and saved as a json file which we will use in for training."
   ]
  },
  {
   "cell_type": "code",
   "execution_count": 3,
   "metadata": {},
   "outputs": [
    {
     "name": "stderr",
     "output_type": "stream",
     "text": [
      "/home/ryan/Documents/GitHub/obri-document-classifier/.venv/lib/python3.10/site-packages/torch/nn/modules/conv.py:456: UserWarning: Applied workaround for CuDNN issue, install nvrtc.so (Triggered internally at ../aten/src/ATen/native/cudnn/Conv_v8.cpp:84.)\n",
      "  return F.conv2d(input, weight, bias, self.stride,\n"
     ]
    }
   ],
   "source": [
    "import json\n",
    "import easyocr\n",
    "\n",
    "def create_bounding_box(bbox_data):\n",
    "    \"\"\"Simplify bounding box from corner box\n",
    "\n",
    "    Bounding box data has x and y coordinates for each corner of the box \n",
    "    (i.e. 8 coordinates total). The coordinates can be reduced to a single \n",
    "    value for left, right, top and bottom because of the repeative nature \n",
    "    of some values.\n",
    "\n",
    "    Parameters\n",
    "    ----------\n",
    "    bbox_data : List of List\n",
    "        Contains X, Y coordinates for each corner of the box\n",
    "\n",
    "    Returns\n",
    "    -------\n",
    "    List\n",
    "        Contents are a single value for left, right, top and bottom\n",
    "    \"\"\"\n",
    "    xs = []\n",
    "    ys = []\n",
    "    for x, y in bbox_data:\n",
    "        xs.append(x)\n",
    "        ys.append(y)\n",
    "    \n",
    "    left = int(min(xs))\n",
    "    top = int(min(ys))\n",
    "    right = int(max(xs))\n",
    "    bottom = int(max(ys))\n",
    "\n",
    "    return [left, top, right, bottom]\n",
    "\n",
    "reader = easyocr.Reader(['en'])\n",
    "\n",
    "# get OCR info and save as a json file\n",
    "for root, _, files in os.walk('../data/processed', topdown=False):\n",
    "    for file in files:\n",
    "\n",
    "        ocr_result = reader.readtext(os.path.join(root, file), batch_size=16)\n",
    "\n",
    "        ocr_page = []\n",
    "        for bbox, word, confidence in ocr_result:\n",
    "            ocr_page.append({\n",
    "                \"word\": word, \"bounding_box\": create_bounding_box(bbox)\n",
    "            })\n",
    "        \n",
    "        with open(os.path.join(root, file).replace('.jpg', '.json'), 'w') as f:\n",
    "            json.dump(ocr_page, f)"
   ]
  },
  {
   "cell_type": "markdown",
   "metadata": {},
   "source": [
    "### Section 2.iii: Create Datasets<a name=\"section-2iii-dataset\"></a>\n",
    "\n",
    "We have our images, labels (via file), text, and absolute location information. We need to combine all the information into a dataset that can be consumed using by our model."
   ]
  },
  {
   "cell_type": "markdown",
   "metadata": {},
   "source": [
    "The `DOCUMENT_CLASSES` object will be used to label our data."
   ]
  },
  {
   "cell_type": "code",
   "execution_count": 4,
   "metadata": {},
   "outputs": [],
   "source": [
    "DOCUMENT_CLASSES = [\n",
    "    'communication', 'fax', 'medical_image', 'other', 'requisition_results'\n",
    "]"
   ]
  },
  {
   "cell_type": "markdown",
   "metadata": {},
   "source": [
    "When we obtain and organize the text location information using `easyocr` and `create_bounding_box`, the location information is absolute. Since the images are different sizes, we need to convert the image location information from absolute to relative. The function `scale_bounding_box` makes the conversion."
   ]
  },
  {
   "cell_type": "code",
   "execution_count": 5,
   "metadata": {},
   "outputs": [],
   "source": [
    "def scale_bounding_box(\n",
    "    box, width_scale = 1.0, height_scale = 1.0\n",
    "):\n",
    "    \"\"\"Scale bounding box\n",
    "\n",
    "    Parameters\n",
    "    ----------\n",
    "    box : List\n",
    "        List containing bounding box coordinates\n",
    "    width_scale : float, optional\n",
    "        Value in which to rescale the width of box, by default 1.0\n",
    "    height_scale : float, optional\n",
    "        Value in which to rescale the height of box, by default 1.0\n",
    "\n",
    "    Returns\n",
    "    -------\n",
    "    List\n",
    "        Values associated with rescaled bounding box\n",
    "    \"\"\"\n",
    "    return [\n",
    "        int(box[0] * width_scale),\n",
    "        int(box[1] * height_scale),\n",
    "        int(box[2] * width_scale),\n",
    "        int(box[3] * height_scale)\n",
    "    ]"
   ]
  },
  {
   "cell_type": "markdown",
   "metadata": {},
   "source": [
    "The class `DocumentClassificationDataset` will open and process the data set (images and json) it can be consumed by the model. The data will eventually be processed by our model's processor (`LayoutLMv3ImageProcessor`). The processor has default functions to resize, normalize, and extract text; however, we have done most of this ourselves."
   ]
  },
  {
   "cell_type": "code",
   "execution_count": 6,
   "metadata": {},
   "outputs": [],
   "source": [
    "import re\n",
    "import torch\n",
    "from torch.utils.data import Dataset\n",
    "\n",
    "class DocumentClassificationDataset(Dataset):\n",
    "\n",
    "    def __init__(self, image_paths, processor):\n",
    "        self.image_paths = image_paths\n",
    "        self.processor = processor\n",
    "  \n",
    "    def __len__(self):\n",
    "        return len(self.image_paths)\n",
    "    \n",
    "    def __getitem__(self, item):\n",
    "\n",
    "        image_path = self.image_paths[item]\n",
    "        json_path = image_path.replace('.jpg', '.json')\n",
    "        \n",
    "        with open(json_path, 'r') as f:\n",
    "            ocr_result = json.load(f)\n",
    "        \n",
    "            with Image.open(image_path).convert(\"RGB\") as image:\n",
    "                # relative size parameters\n",
    "                width, height = image.size\n",
    "                width_scale = 1000 / width\n",
    "                height_scale = 1000 / height\n",
    "        \n",
    "                words = []\n",
    "                boxes = []\n",
    "                for row in ocr_result:\n",
    "                    boxes.append(\n",
    "                        scale_bounding_box(\n",
    "                            row[\"bounding_box\"],\n",
    "                            width_scale,\n",
    "                            height_scale\n",
    "                        )\n",
    "                    )\n",
    "                    words.append(row[\"word\"])\n",
    "\n",
    "                encoding = self.processor(\n",
    "                    image, \n",
    "                    words,\n",
    "                    boxes=boxes,\n",
    "                    max_length=512,\n",
    "                    padding=\"max_length\",\n",
    "                    truncation=True,\n",
    "                    return_tensors=\"pt\"\n",
    "                )\n",
    "        \n",
    "        # get the label from the folder structure\n",
    "        string_label = re.sub(\n",
    "            '/.*jpg$', \n",
    "            '', \n",
    "            re.sub(\n",
    "                '../data/processed/(train|validation)/', \n",
    "                '', \n",
    "                image_path\n",
    "            )\n",
    "        )\n",
    "        label = DOCUMENT_CLASSES.index(string_label)\n",
    "\n",
    "        return dict(\n",
    "            input_ids=encoding[\"input_ids\"].flatten(),\n",
    "            attention_mask=encoding[\"attention_mask\"].flatten(),\n",
    "            bbox=encoding[\"bbox\"].flatten(end_dim=1),\n",
    "            pixel_values=encoding[\"pixel_values\"].flatten(end_dim=1),\n",
    "            labels=torch.tensor(label, dtype=torch.long)\n",
    "        )"
   ]
  },
  {
   "cell_type": "markdown",
   "metadata": {},
   "source": [
    "`DocumentClassificationDataset` will organize and process our data but we need to pass it the images and text info via the file paths so it knows what data to process. We create a function `get_file_paths` to accomplish organize all relevant file paths."
   ]
  },
  {
   "cell_type": "code",
   "execution_count": 7,
   "metadata": {},
   "outputs": [],
   "source": [
    "def get_file_paths(set_type):\n",
    "    \"\"\"Get file paths associated with a file type\n",
    "\n",
    "    Parameters\n",
    "    ----------\n",
    "    set_type : str\n",
    "        Data set type associated with folder structure (i.e. train, validation, test)\n",
    "\n",
    "    Returns\n",
    "    -------\n",
    "    List\n",
    "        Contains all file paths associated with a data set of interest\n",
    "    \"\"\"\n",
    "    file_paths = []\n",
    "    for root, _, files in os.walk('../data/processed/' + set_type, topdown=False):\n",
    "        for file in files:\n",
    "            if file.endswith('.jpg'):\n",
    "                file_paths.append(os.path.join(root, file))\n",
    "\n",
    "    return file_paths\n",
    "\n",
    "train_paths = get_file_paths('train')\n",
    "val_paths = get_file_paths('validation')"
   ]
  },
  {
   "cell_type": "markdown",
   "metadata": {},
   "source": [
    "We need to designate a model specific processor which includes an image processor and a tokenizer. As previously mentioned, we will override most of the image processor's (`LayoutLMv3ImageProcessor`) default functions; however, we still need the Layout LM tokenizer (`LayoutLMv3TokenizerFast`) to perform text and location tasks such as tokenization and applying attention masks. With all the components, we can create a training and validation data set."
   ]
  },
  {
   "cell_type": "code",
   "execution_count": 8,
   "metadata": {},
   "outputs": [
    {
     "name": "stderr",
     "output_type": "stream",
     "text": [
      "/home/ryan/Documents/GitHub/obri-document-classifier/.venv/lib/python3.10/site-packages/tqdm/auto.py:21: TqdmWarning: IProgress not found. Please update jupyter and ipywidgets. See https://ipywidgets.readthedocs.io/en/stable/user_install.html\n",
      "  from .autonotebook import tqdm as notebook_tqdm\n"
     ]
    }
   ],
   "source": [
    "from transformers import LayoutLMv3ImageProcessor, LayoutLMv3TokenizerFast, LayoutLMv3Processor, LayoutLMv3ForSequenceClassification\n",
    "from torch.utils.data import DataLoader\n",
    "\n",
    "image_processor = LayoutLMv3ImageProcessor(apply_ocr=False)\n",
    "tokenizer = LayoutLMv3TokenizerFast.from_pretrained(\"microsoft/layoutlmv3-base\")\n",
    "processor = LayoutLMv3Processor(\n",
    "    image_processor=image_processor, tokenizer=tokenizer\n",
    ")\n",
    "\n",
    "train_dataset = DocumentClassificationDataset(train_paths, processor)\n",
    "train_data_loader = DataLoader(\n",
    "    train_dataset,\n",
    "    batch_size=4,\n",
    "    shuffle=True,\n",
    "    num_workers=3\n",
    ")\n",
    "\n",
    "val_dataset = DocumentClassificationDataset(val_paths, processor)\n",
    "val_data_loader = DataLoader(\n",
    "    val_dataset,\n",
    "    batch_size=4,\n",
    "    shuffle=False,\n",
    "    num_workers=3\n",
    ")"
   ]
  },
  {
   "cell_type": "markdown",
   "metadata": {},
   "source": [
    "### Section 2.iv: Create the Model<a name=\"section-2iv-create-model\"></a>\n",
    "\n",
    "We need to create a PyTorch model to train. In this case, we are fine-tuning Microsoft's Layout LM and most of the model's details are abstracted; however, we still need to configure the model so it can use our data appropriately. We use PyTorch Lightning to help organize the boilerplate code."
   ]
  },
  {
   "cell_type": "code",
   "execution_count": 9,
   "metadata": {},
   "outputs": [],
   "source": [
    "import lightning as L\n",
    "from torchmetrics import Accuracy\n",
    "\n",
    "class ModelModule(L.LightningModule):\n",
    "    def __init__(self, n_classes:int):\n",
    "        super().__init__()\n",
    "        self.model = LayoutLMv3ForSequenceClassification.from_pretrained(\n",
    "            \"microsoft/layoutlmv3-base\",\n",
    "            num_labels=n_classes\n",
    "        )\n",
    "        self.train_accuracy = Accuracy(task=\"multiclass\", num_classes=n_classes)\n",
    "        self.val_accuracy = Accuracy(task=\"multiclass\", num_classes=n_classes)\n",
    " \n",
    "    def forward(self, input_ids, attention_mask, bbox, pixel_values, labels=None):\n",
    "        return self.model(\n",
    "            input_ids,\n",
    "            attention_mask=attention_mask,\n",
    "            bbox=bbox,\n",
    "            pixel_values=pixel_values,\n",
    "            labels=labels\n",
    "        )\n",
    " \n",
    "    def training_step(self, batch, batch_idx):\n",
    "        input_ids = batch[\"input_ids\"]\n",
    "        attention_mask = batch[\"attention_mask\"]\n",
    "        bbox = batch[\"bbox\"]\n",
    "        pixel_values = batch[\"pixel_values\"]\n",
    "        labels = batch[\"labels\"]\n",
    "        output = self(input_ids, attention_mask, bbox, pixel_values, labels)\n",
    "        self.log(\"train_loss\", output.loss)\n",
    "        self.log(\n",
    "            \"train_acc\",\n",
    "            self.train_accuracy(output.logits, labels),\n",
    "            on_step=True,\n",
    "            on_epoch=True\n",
    "        )\n",
    "        return output.loss\n",
    " \n",
    "    def validation_step(self, batch, batch_idx):\n",
    "        input_ids = batch[\"input_ids\"]\n",
    "        attention_mask = batch[\"attention_mask\"]\n",
    "        bbox = batch[\"bbox\"]\n",
    "        pixel_values = batch[\"pixel_values\"]\n",
    "        labels = batch[\"labels\"]\n",
    "        output = self(input_ids, attention_mask, bbox, pixel_values, labels)\n",
    "        self.log(\"val_loss\", output.loss)\n",
    "        self.log(\n",
    "            \"val_acc\",\n",
    "            self.val_accuracy(output.logits, labels),\n",
    "            on_step=False,\n",
    "            on_epoch=True,\n",
    "            prog_bar=True\n",
    "        )\n",
    "        \n",
    "        return output.loss\n",
    " \n",
    "    def configure_optimizers(self):\n",
    "        optimizer = torch.optim.Adam(self.model.parameters(), lr=0.00001)\n",
    "        return optimizer"
   ]
  },
  {
   "cell_type": "markdown",
   "metadata": {},
   "source": [
    "### Section 2.v: Train the Model<a name=\"section-2v-train-model\"></a>\n",
    "\n",
    "We have already created the datasets. We need to create an instance of the model class (`ModelModule`), and a trainer (`Trainer`) to train the model."
   ]
  },
  {
   "cell_type": "code",
   "execution_count": 10,
   "metadata": {},
   "outputs": [
    {
     "name": "stderr",
     "output_type": "stream",
     "text": [
      "Some weights of LayoutLMv3ForSequenceClassification were not initialized from the model checkpoint at microsoft/layoutlmv3-base and are newly initialized: ['classifier.dense.bias', 'classifier.dense.weight', 'classifier.out_proj.bias', 'classifier.out_proj.weight']\n",
      "You should probably TRAIN this model on a down-stream task to be able to use it for predictions and inference.\n"
     ]
    }
   ],
   "source": [
    "model_module = ModelModule(len(DOCUMENT_CLASSES))"
   ]
  },
  {
   "cell_type": "markdown",
   "metadata": {},
   "source": [
    "We create a trainer which incorporates two callbacks into our training. We use `ModelCheckpoint` to save a copy of our model after each epoch."
   ]
  },
  {
   "cell_type": "code",
   "execution_count": 11,
   "metadata": {},
   "outputs": [
    {
     "name": "stderr",
     "output_type": "stream",
     "text": [
      "Using 16bit Automatic Mixed Precision (AMP)\n",
      "GPU available: True (cuda), used: True\n",
      "TPU available: False, using: 0 TPU cores\n",
      "IPU available: False, using: 0 IPUs\n",
      "HPU available: False, using: 0 HPUs\n",
      "/home/ryan/Documents/GitHub/obri-document-classifier/.venv/lib/python3.10/site-packages/lightning/pytorch/trainer/connectors/logger_connector/logger_connector.py:75: Starting from v1.9.0, `tensorboardX` has been removed as a dependency of the `lightning.pytorch` package, due to potential conflicts with other packages in the ML ecosystem. For this reason, `logger=True` will use `CSVLogger` as the default logger, unless the `tensorboard` or `tensorboardX` packages are found. Please `pip install lightning[extra]` or one of them to enable TensorBoard support by default\n"
     ]
    }
   ],
   "source": [
    "from lightning.pytorch.callbacks import ModelCheckpoint, EarlyStopping\n",
    "\n",
    "model_checkpoint = ModelCheckpoint(\n",
    "    dirpath='../models/',\n",
    "    filename=\"{epoch}-{step}-{val_loss:.4f}\",\n",
    "    save_last=True, save_top_k=3, monitor=\"val_loss\", mode=\"min\"\n",
    ")\n",
    "\n",
    "trainer = L.Trainer(\n",
    "    accelerator=\"gpu\", \n",
    "    precision=\"16-mixed\",\n",
    "    max_epochs=10,\n",
    "    callbacks=[\n",
    "        model_checkpoint,\n",
    "        EarlyStopping(monitor=\"val_loss\", mode=\"min\", patience=2)\n",
    "    ]\n",
    ")"
   ]
  },
  {
   "cell_type": "markdown",
   "metadata": {},
   "source": [
    "We now have everything we need and we can train the model."
   ]
  },
  {
   "cell_type": "code",
   "execution_count": 12,
   "metadata": {},
   "outputs": [
    {
     "name": "stderr",
     "output_type": "stream",
     "text": [
      "LOCAL_RANK: 0 - CUDA_VISIBLE_DEVICES: [0]\n",
      "\n",
      "  | Name           | Type                                | Params\n",
      "-----------------------------------------------------------------------\n",
      "0 | model          | LayoutLMv3ForSequenceClassification | 125 M \n",
      "1 | train_accuracy | MulticlassAccuracy                  | 0     \n",
      "2 | val_accuracy   | MulticlassAccuracy                  | 0     \n",
      "-----------------------------------------------------------------------\n",
      "125 M     Trainable params\n",
      "0         Non-trainable params\n",
      "125 M     Total params\n",
      "503.686   Total estimated model params size (MB)\n"
     ]
    },
    {
     "name": "stdout",
     "output_type": "stream",
     "text": [
      "Sanity Checking DataLoader 0:   0%|          | 0/2 [00:00<?, ?it/s]"
     ]
    },
    {
     "name": "stderr",
     "output_type": "stream",
     "text": [
      "/home/ryan/Documents/GitHub/obri-document-classifier/.venv/lib/python3.10/site-packages/transformers/modeling_utils.py:1052: FutureWarning: The `device` argument is deprecated and will be removed in v5 of Transformers.\n",
      "  warnings.warn(\n"
     ]
    },
    {
     "name": "stdout",
     "output_type": "stream",
     "text": [
      "                                                                           \r"
     ]
    },
    {
     "name": "stderr",
     "output_type": "stream",
     "text": [
      "/home/ryan/Documents/GitHub/obri-document-classifier/.venv/lib/python3.10/site-packages/lightning/pytorch/loops/fit_loop.py:298: The number of training batches (45) is smaller than the logging interval Trainer(log_every_n_steps=50). Set a lower value for log_every_n_steps if you want to see logs for the training epoch.\n"
     ]
    },
    {
     "name": "stdout",
     "output_type": "stream",
     "text": [
      "Epoch 6: 100%|██████████| 45/45 [01:25<00:00,  0.52it/s, v_num=0, val_acc=0.840]\n"
     ]
    }
   ],
   "source": [
    "trainer.fit(model_module, train_data_loader, val_data_loader)"
   ]
  },
  {
   "cell_type": "markdown",
   "metadata": {},
   "source": [
    "## Section 3: Results<a name=\"section-3-results\"></a>\n",
    "Once we have a final model, we can load the test files to get our model accuracy."
   ]
  },
  {
   "cell_type": "code",
   "execution_count": 13,
   "metadata": {},
   "outputs": [
    {
     "data": {
      "text/html": [
       "<div>\n",
       "<style scoped>\n",
       "    .dataframe tbody tr th:only-of-type {\n",
       "        vertical-align: middle;\n",
       "    }\n",
       "\n",
       "    .dataframe tbody tr th {\n",
       "        vertical-align: top;\n",
       "    }\n",
       "\n",
       "    .dataframe thead th {\n",
       "        text-align: right;\n",
       "    }\n",
       "</style>\n",
       "<table border=\"1\" class=\"dataframe\">\n",
       "  <thead>\n",
       "    <tr style=\"text-align: right;\">\n",
       "      <th></th>\n",
       "      <th>epoch</th>\n",
       "      <th>step</th>\n",
       "      <th>train_acc_epoch</th>\n",
       "      <th>train_acc_step</th>\n",
       "      <th>train_loss</th>\n",
       "      <th>val_acc</th>\n",
       "      <th>val_loss</th>\n",
       "    </tr>\n",
       "  </thead>\n",
       "  <tbody>\n",
       "    <tr>\n",
       "      <th>0</th>\n",
       "      <td>0</td>\n",
       "      <td>44</td>\n",
       "      <td>NaN</td>\n",
       "      <td>NaN</td>\n",
       "      <td>NaN</td>\n",
       "      <td>0.60</td>\n",
       "      <td>1.053940</td>\n",
       "    </tr>\n",
       "    <tr>\n",
       "      <th>1</th>\n",
       "      <td>0</td>\n",
       "      <td>44</td>\n",
       "      <td>0.458101</td>\n",
       "      <td>NaN</td>\n",
       "      <td>NaN</td>\n",
       "      <td>NaN</td>\n",
       "      <td>NaN</td>\n",
       "    </tr>\n",
       "    <tr>\n",
       "      <th>2</th>\n",
       "      <td>1</td>\n",
       "      <td>49</td>\n",
       "      <td>NaN</td>\n",
       "      <td>0.75</td>\n",
       "      <td>0.981445</td>\n",
       "      <td>NaN</td>\n",
       "      <td>NaN</td>\n",
       "    </tr>\n",
       "    <tr>\n",
       "      <th>3</th>\n",
       "      <td>1</td>\n",
       "      <td>89</td>\n",
       "      <td>NaN</td>\n",
       "      <td>NaN</td>\n",
       "      <td>NaN</td>\n",
       "      <td>0.80</td>\n",
       "      <td>0.682976</td>\n",
       "    </tr>\n",
       "    <tr>\n",
       "      <th>4</th>\n",
       "      <td>1</td>\n",
       "      <td>89</td>\n",
       "      <td>0.782123</td>\n",
       "      <td>NaN</td>\n",
       "      <td>NaN</td>\n",
       "      <td>NaN</td>\n",
       "      <td>NaN</td>\n",
       "    </tr>\n",
       "    <tr>\n",
       "      <th>5</th>\n",
       "      <td>2</td>\n",
       "      <td>99</td>\n",
       "      <td>NaN</td>\n",
       "      <td>1.00</td>\n",
       "      <td>0.304016</td>\n",
       "      <td>NaN</td>\n",
       "      <td>NaN</td>\n",
       "    </tr>\n",
       "    <tr>\n",
       "      <th>6</th>\n",
       "      <td>2</td>\n",
       "      <td>134</td>\n",
       "      <td>NaN</td>\n",
       "      <td>NaN</td>\n",
       "      <td>NaN</td>\n",
       "      <td>0.80</td>\n",
       "      <td>0.588947</td>\n",
       "    </tr>\n",
       "    <tr>\n",
       "      <th>7</th>\n",
       "      <td>2</td>\n",
       "      <td>134</td>\n",
       "      <td>0.927374</td>\n",
       "      <td>NaN</td>\n",
       "      <td>NaN</td>\n",
       "      <td>NaN</td>\n",
       "      <td>NaN</td>\n",
       "    </tr>\n",
       "    <tr>\n",
       "      <th>8</th>\n",
       "      <td>3</td>\n",
       "      <td>149</td>\n",
       "      <td>NaN</td>\n",
       "      <td>1.00</td>\n",
       "      <td>0.214523</td>\n",
       "      <td>NaN</td>\n",
       "      <td>NaN</td>\n",
       "    </tr>\n",
       "    <tr>\n",
       "      <th>9</th>\n",
       "      <td>3</td>\n",
       "      <td>179</td>\n",
       "      <td>NaN</td>\n",
       "      <td>NaN</td>\n",
       "      <td>NaN</td>\n",
       "      <td>0.76</td>\n",
       "      <td>0.583840</td>\n",
       "    </tr>\n",
       "    <tr>\n",
       "      <th>10</th>\n",
       "      <td>3</td>\n",
       "      <td>179</td>\n",
       "      <td>0.966480</td>\n",
       "      <td>NaN</td>\n",
       "      <td>NaN</td>\n",
       "      <td>NaN</td>\n",
       "      <td>NaN</td>\n",
       "    </tr>\n",
       "    <tr>\n",
       "      <th>11</th>\n",
       "      <td>4</td>\n",
       "      <td>199</td>\n",
       "      <td>NaN</td>\n",
       "      <td>1.00</td>\n",
       "      <td>0.040226</td>\n",
       "      <td>NaN</td>\n",
       "      <td>NaN</td>\n",
       "    </tr>\n",
       "    <tr>\n",
       "      <th>12</th>\n",
       "      <td>4</td>\n",
       "      <td>224</td>\n",
       "      <td>NaN</td>\n",
       "      <td>NaN</td>\n",
       "      <td>NaN</td>\n",
       "      <td>0.88</td>\n",
       "      <td>0.341547</td>\n",
       "    </tr>\n",
       "    <tr>\n",
       "      <th>13</th>\n",
       "      <td>4</td>\n",
       "      <td>224</td>\n",
       "      <td>0.994413</td>\n",
       "      <td>NaN</td>\n",
       "      <td>NaN</td>\n",
       "      <td>NaN</td>\n",
       "      <td>NaN</td>\n",
       "    </tr>\n",
       "    <tr>\n",
       "      <th>14</th>\n",
       "      <td>5</td>\n",
       "      <td>249</td>\n",
       "      <td>NaN</td>\n",
       "      <td>1.00</td>\n",
       "      <td>0.042141</td>\n",
       "      <td>NaN</td>\n",
       "      <td>NaN</td>\n",
       "    </tr>\n",
       "    <tr>\n",
       "      <th>15</th>\n",
       "      <td>5</td>\n",
       "      <td>269</td>\n",
       "      <td>NaN</td>\n",
       "      <td>NaN</td>\n",
       "      <td>NaN</td>\n",
       "      <td>0.88</td>\n",
       "      <td>0.498868</td>\n",
       "    </tr>\n",
       "    <tr>\n",
       "      <th>16</th>\n",
       "      <td>5</td>\n",
       "      <td>269</td>\n",
       "      <td>0.994413</td>\n",
       "      <td>NaN</td>\n",
       "      <td>NaN</td>\n",
       "      <td>NaN</td>\n",
       "      <td>NaN</td>\n",
       "    </tr>\n",
       "    <tr>\n",
       "      <th>17</th>\n",
       "      <td>6</td>\n",
       "      <td>299</td>\n",
       "      <td>NaN</td>\n",
       "      <td>1.00</td>\n",
       "      <td>0.018295</td>\n",
       "      <td>NaN</td>\n",
       "      <td>NaN</td>\n",
       "    </tr>\n",
       "    <tr>\n",
       "      <th>18</th>\n",
       "      <td>6</td>\n",
       "      <td>314</td>\n",
       "      <td>NaN</td>\n",
       "      <td>NaN</td>\n",
       "      <td>NaN</td>\n",
       "      <td>0.84</td>\n",
       "      <td>0.492209</td>\n",
       "    </tr>\n",
       "    <tr>\n",
       "      <th>19</th>\n",
       "      <td>6</td>\n",
       "      <td>314</td>\n",
       "      <td>1.000000</td>\n",
       "      <td>NaN</td>\n",
       "      <td>NaN</td>\n",
       "      <td>NaN</td>\n",
       "      <td>NaN</td>\n",
       "    </tr>\n",
       "  </tbody>\n",
       "</table>\n",
       "</div>"
      ],
      "text/plain": [
       "    epoch  step  train_acc_epoch  train_acc_step  train_loss  val_acc  \\\n",
       "0       0    44              NaN             NaN         NaN     0.60   \n",
       "1       0    44         0.458101             NaN         NaN      NaN   \n",
       "2       1    49              NaN            0.75    0.981445      NaN   \n",
       "3       1    89              NaN             NaN         NaN     0.80   \n",
       "4       1    89         0.782123             NaN         NaN      NaN   \n",
       "5       2    99              NaN            1.00    0.304016      NaN   \n",
       "6       2   134              NaN             NaN         NaN     0.80   \n",
       "7       2   134         0.927374             NaN         NaN      NaN   \n",
       "8       3   149              NaN            1.00    0.214523      NaN   \n",
       "9       3   179              NaN             NaN         NaN     0.76   \n",
       "10      3   179         0.966480             NaN         NaN      NaN   \n",
       "11      4   199              NaN            1.00    0.040226      NaN   \n",
       "12      4   224              NaN             NaN         NaN     0.88   \n",
       "13      4   224         0.994413             NaN         NaN      NaN   \n",
       "14      5   249              NaN            1.00    0.042141      NaN   \n",
       "15      5   269              NaN             NaN         NaN     0.88   \n",
       "16      5   269         0.994413             NaN         NaN      NaN   \n",
       "17      6   299              NaN            1.00    0.018295      NaN   \n",
       "18      6   314              NaN             NaN         NaN     0.84   \n",
       "19      6   314         1.000000             NaN         NaN      NaN   \n",
       "\n",
       "    val_loss  \n",
       "0   1.053940  \n",
       "1        NaN  \n",
       "2        NaN  \n",
       "3   0.682976  \n",
       "4        NaN  \n",
       "5        NaN  \n",
       "6   0.588947  \n",
       "7        NaN  \n",
       "8        NaN  \n",
       "9   0.583840  \n",
       "10       NaN  \n",
       "11       NaN  \n",
       "12  0.341547  \n",
       "13       NaN  \n",
       "14       NaN  \n",
       "15  0.498868  \n",
       "16       NaN  \n",
       "17       NaN  \n",
       "18  0.492209  \n",
       "19       NaN  "
      ]
     },
     "execution_count": 13,
     "metadata": {},
     "output_type": "execute_result"
    }
   ],
   "source": [
    "import pandas as pd\n",
    "pd.read_csv(\"lightning_logs/version_0/metrics.csv\")"
   ]
  },
  {
   "cell_type": "markdown",
   "metadata": {},
   "source": [
    "As a result of the early stopping callback, not all 10 epochs were completed since the validation loss was no longer decreasing. We can see from epoch 4 that the model had a 99% accuracy on the training data set and a 88% accuracy on the validation data set. The model starts overfitting the data on the 5 and 6 epochs.\n",
    "\n",
    "We can create a confusion matrix to determine the accuracy of our trained model. The test or holdout dataset contains images, text, and location data which the model has not seen as part of the training or validation and therefore gives an idea of the real world performance of the model. In order to test the fine-tuned model, we need to first load and configure it for inference/evaluation."
   ]
  },
  {
   "cell_type": "code",
   "execution_count": 14,
   "metadata": {},
   "outputs": [
    {
     "name": "stderr",
     "output_type": "stream",
     "text": [
      "Some weights of LayoutLMv3ForSequenceClassification were not initialized from the model checkpoint at microsoft/layoutlmv3-base and are newly initialized: ['classifier.dense.bias', 'classifier.dense.weight', 'classifier.out_proj.bias', 'classifier.out_proj.weight']\n",
      "You should probably TRAIN this model on a down-stream task to be able to use it for predictions and inference.\n"
     ]
    }
   ],
   "source": [
    "trained_model = ModelModule.load_from_checkpoint(\n",
    "    model_checkpoint.best_model_path,\n",
    "    n_classes=len(DOCUMENT_CLASSES),\n",
    "    local_files_only=True\n",
    ")\n",
    "DEVICE = \"cuda:0\" if torch.cuda.is_available() else \"cpu\"\n",
    "\n",
    "model = trained_model.eval().to(DEVICE)"
   ]
  },
  {
   "cell_type": "markdown",
   "metadata": {},
   "source": [
    "The function `predict_document_image` performs a similar role to the `DocumentClassificationDataset` class. The difference is that `predict_document_image` will predict the label based on the image whereas `DocumentClassificationDataset` is used for training and is provided with the label."
   ]
  },
  {
   "cell_type": "code",
   "execution_count": 15,
   "metadata": {},
   "outputs": [],
   "source": [
    "def predict_document_image(\n",
    "    image_path, model, processor\n",
    "):\n",
    "    \"\"\"Classify documents\n",
    "\n",
    "    Parameters\n",
    "    ----------\n",
    "    image_path : str\n",
    "        Location of documents to classify\n",
    "    model : LayoutLMv3ForSequenceClassification\n",
    "        Model that used to classify documents\n",
    "    processor : LayoutLMv3Processor\n",
    "        Associated processor to process images and tokenize words\n",
    "    \n",
    "    Returns\n",
    "    -------\n",
    "    Predicted class label\n",
    "\n",
    "    \"\"\"\n",
    "    json_path = image_path.replace('.jpg', '.json')        \n",
    "    with open(json_path, 'r') as f:\n",
    "        \n",
    "        ocr_result = json.load(f)\n",
    " \n",
    "        with Image.open(image_path).convert(\"RGB\") as image:\n",
    " \n",
    "            width, height = image.size\n",
    "            width_scale = 1000 / width\n",
    "            height_scale = 1000 / height\n",
    " \n",
    "            words = []\n",
    "            boxes = []\n",
    "            for row in ocr_result:\n",
    "                boxes.append(\n",
    "                    scale_bounding_box(\n",
    "                        row[\"bounding_box\"],\n",
    "                        width_scale,\n",
    "                        height_scale\n",
    "                    )\n",
    "                )\n",
    "                words.append(row[\"word\"])\n",
    " \n",
    "            encoding = processor(\n",
    "                image,\n",
    "                words,\n",
    "                boxes=boxes,\n",
    "                max_length=512,\n",
    "                padding=\"max_length\",\n",
    "                truncation=True,\n",
    "                return_tensors=\"pt\"\n",
    "            )\n",
    " \n",
    "    with torch.inference_mode():\n",
    "        output = model(\n",
    "            input_ids=encoding[\"input_ids\"].to(DEVICE),\n",
    "            attention_mask=encoding[\"attention_mask\"].to(DEVICE),\n",
    "            bbox=encoding[\"bbox\"].to(DEVICE),\n",
    "            pixel_values=encoding[\"pixel_values\"].to(DEVICE)\n",
    "        )\n",
    " \n",
    "    predicted_class = output.logits.argmax()\n",
    "\n",
    "    return DOCUMENT_CLASSES[predicted_class.item()]"
   ]
  },
  {
   "cell_type": "markdown",
   "metadata": {},
   "source": [
    "<!-- This function takes an image path as input, opens the image, extracts the OCR, scales the bounding boxes based on the image size, and preprocesses the image and text data using the previously defined processor. The preprocessed data is then sent to the model for inference on the GPU. Finally, the function returns the predicted class label for the input image. -->\n",
    "\n",
    "We can now execute the function on all test documents. The `labels` holds the ground truth while predictions are stored in `predictions`."
   ]
  },
  {
   "cell_type": "code",
   "execution_count": 16,
   "metadata": {},
   "outputs": [
    {
     "name": "stderr",
     "output_type": "stream",
     "text": [
      "/home/ryan/Documents/GitHub/obri-document-classifier/.venv/lib/python3.10/site-packages/transformers/modeling_utils.py:1052: FutureWarning: The `device` argument is deprecated and will be removed in v5 of Transformers.\n",
      "  warnings.warn(\n"
     ]
    }
   ],
   "source": [
    "test_paths = get_file_paths('test')\n",
    "\n",
    "labels = []\n",
    "predictions = []\n",
    "\n",
    "for image_path in test_paths:\n",
    "    string_label = re.sub('/.*jpg$', '', re.sub('../data/processed/test/', '', image_path))\n",
    "    labels.append(string_label)\n",
    "    \n",
    "    predictions.append(\n",
    "        predict_document_image(image_path, model, processor)\n",
    "    )"
   ]
  },
  {
   "cell_type": "markdown",
   "metadata": {},
   "source": [
    "With the prediction and the ground truth labels, we can create a confusion matrix to gauge the accuracy of our model."
   ]
  },
  {
   "cell_type": "code",
   "execution_count": 17,
   "metadata": {},
   "outputs": [
    {
     "data": {
      "image/png": "[encoded data removed]",
      "text/plain": [
       "<Figure size 1600x800 with 2 Axes>"
      ]
     },
     "metadata": {},
     "output_type": "display_data"
    }
   ],
   "source": [
    "from sklearn.metrics import confusion_matrix, ConfusionMatrixDisplay\n",
    "import matplotlib.pyplot as plt\n",
    "\n",
    "cm = confusion_matrix(labels, predictions, labels=DOCUMENT_CLASSES)\n",
    "cm_display = ConfusionMatrixDisplay(\n",
    "    confusion_matrix=cm,\n",
    "    display_labels=DOCUMENT_CLASSES\n",
    ")\n",
    " \n",
    "cm_display.plot()\n",
    "cm_display.ax_.set_xticklabels(DOCUMENT_CLASSES, rotation=45)\n",
    "cm_display.figure_.set_size_inches(16, 8)\n",
    " \n",
    "plt.show()"
   ]
  },
  {
   "cell_type": "markdown",
   "metadata": {},
   "source": [
    "From the confusion matrix, we can see that the model correctly identified 24 out of the 25 documents. We now have a fine tuned LayoutLMv3 model that can identify medical documents with a 96% accuracy. "
   ]
  }
 ],
 "metadata": {
  "kernelspec": {
   "display_name": ".venv",
   "language": "python",
   "name": "python3"
  },
  "language_info": {
   "codemirror_mode": {
    "name": "ipython",
    "version": 3
   },
   "file_extension": ".py",
   "mimetype": "text/x-python",
   "name": "python",
   "nbconvert_exporter": "python",
   "pygments_lexer": "ipython3",
   "version": "3.10.12"
  }
 },
 "nbformat": 4,
 "nbformat_minor": 2
}
